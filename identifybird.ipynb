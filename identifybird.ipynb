{
 "cells": [
  {
   "cell_type": "code",
   "execution_count": null,
   "id": "c054a3bb",
   "metadata": {},
   "outputs": [],
   "source": [
    "#!/usr/bin/env python3\n",
    "# -*- coding: utf-8 -*-\n",
    "\"\"\"\n",
    "Created on Wed April 13 23:01:53 2022\n",
    "\n",
    "@author: amandabreton\n",
    "Allows user to pick view a species result from eventchecker.py.\n",
    "Takes in the text files created by BirdNET and provides\n",
    "the user with a list of the most probable bird species.\n",
    "The user then tells the script which speices they would\n",
    "like to investigate further and a graph is shown that\n",
    "shows how the counts of that bird species changes throughout\n",
    "the day.\n",
    "\n",
    "\"\"\""
   ]
  },
  {
   "cell_type": "code",
   "execution_count": 2,
   "id": "42f9e4cb",
   "metadata": {},
   "outputs": [],
   "source": [
    "# import tool boxes \n",
    "import scipy.io.wavfile\n",
    "import os\n",
    "import pandas as pd\n",
    "import subprocess\n",
    "from subprocess import call\n",
    "import argparse\n",
    "import yaml\n",
    "import numpy as np\n",
    "import exiftool\n",
    "import matplotlib.pyplot as plt"
   ]
  },
  {
   "cell_type": "code",
   "execution_count": 7,
   "id": "68c58fbb",
   "metadata": {},
   "outputs": [],
   "source": [
    "# %% setup your files\n",
    "# NOTE: you will probably have to change this: s\n",
    "csvpath = '/Users/amandabreton/Documents/GitHub/ECE-590-Identification-of-Species/audio_CSVout/'\n",
    "path = '/Users/amandabreton/Documents/GitHub/ECE-590-Identification-of-Species/audio_bestbirds/'\n",
    "#analyzepath = 'analyze.py'\n",
    "analyzepath = '/Users/amandabreton/Documents/GitHub/BirdNET/analyze.py'\n",
    "# birdnetpath = 'BirdNET/'\n",
    "birdnetpath = '/Users/amandabreton/Documents/GitHub/BirdNET'\n",
    "setbackpath = '/Users/amandabreton/Documents/GitHub/ECE-590-Identification-of-Species'\n",
    "threshold = 0.85"
   ]
  },
  {
   "cell_type": "code",
   "execution_count": 8,
   "id": "88fd1517",
   "metadata": {},
   "outputs": [],
   "source": [
    "# %% getting which files are audio\n",
    "for filename in os.listdir(path):\n",
    "    if filename.endswith(\".wav\") or filename.endswith(\".WAV\"):\n",
    "        name = os.path.join(path, filename)\n",
    "    else:\n",
    "        continue\n",
    "\n",
    "if os.path.exists(os.path.join(path, \".DS_Store\")):\n",
    "    os.remove(os.path.join(path, \".DS_Store\"))\n",
    "else:\n",
    "    pass\n",
    "\n",
    "sounds = [os.path.join(path, name) for name in os.listdir(path) if\n",
    "          os.path.isfile(os.path.join(path, name))]"
   ]
  },
  {
   "cell_type": "code",
   "execution_count": 9,
   "id": "3d2ea7a8",
   "metadata": {},
   "outputs": [
    {
     "name": "stdout",
     "output_type": "stream",
     "text": [
      "python /Users/amandabreton/Documents/GitHub/BirdNET/analyze.py --i /Users/amandabreton/Documents/GitHub/ECE-590-Identification-of-Species/audio_bestbirds/quail.wav\n",
      "FILES IN DATASET: 1 \n",
      "LOADING SNAPSHOT BirdNET_Soundscape_Model.pkl ... DONE! \n",
      "BUILDING BirdNET MODEL... DONE! \n",
      "IMPORTING MODEL PARAMS... DONE! \n",
      "COMPILING THEANO TEST FUNCTION FUNCTION... DONE! \n",
      "LOADING eBIRD GRID DATA... DONE! 13800 GRID CELLS \n",
      "SID: 1 PROCESSING: quail.wav SPECIES: 987 DETECTIONS: 29 TIME: 4 \n",
      "BirdNET done analyzing  audio file #0\n",
      "BirdNET done analyzing 1 audio files\n"
     ]
    }
   ],
   "source": [
    "# %% putting the info into a data frame\n",
    "df = pd.DataFrame(list(zip(sounds)),\n",
    "                  columns=['Audio_Paths'])\n",
    "\n",
    "# %% sending files to BirdNET analyze\n",
    "os.chdir(birdnetpath)\n",
    "\n",
    "for i in range(len(df['Audio_Paths'])):\n",
    "    birdaud = str('python ') + str(analyzepath) + str(' --i ') + str(df['Audio_Paths'][i])\n",
    "    subprocess.call(birdaud, shell=True)\n",
    "    print('BirdNET done analyzing  audio file #' + str((i)))\n",
    "\n",
    "print('BirdNET done analyzing ' + str(len(df['Audio_Paths']))\n",
    "      + ' audio files')"
   ]
  },
  {
   "cell_type": "code",
   "execution_count": 10,
   "id": "6d3c5ab1",
   "metadata": {},
   "outputs": [
    {
     "name": "stdout",
     "output_type": "stream",
     "text": [
      "The most probable bird detections in this batch are as follows:\n",
      "             Species  Confidence Audio Source\n",
      "0   California Quail    0.995277    quail.wav\n",
      "1   California Quail    0.999349    quail.wav\n",
      "2   California Quail    0.996147    quail.wav\n",
      "3   California Quail    0.995897    quail.wav\n",
      "4   California Quail    0.995076    quail.wav\n",
      "5   California Quail    0.940949    quail.wav\n",
      "6   California Quail    0.904740    quail.wav\n",
      "7   California Quail    0.983291    quail.wav\n",
      "8   California Quail    0.994098    quail.wav\n",
      "9   California Quail    0.922142    quail.wav\n",
      "10  California Quail    0.994406    quail.wav\n",
      "11  California Quail    0.992229    quail.wav\n",
      "12  California Quail    0.955427    quail.wav\n",
      "13       Tundra Swan    0.914912    quail.wav\n",
      "14    Gambel's Quail    0.939669    quail.wav\n",
      "Here are the species found:\n",
      "['California Quail', 'Tundra Swan', \"Gambel's Quail\"]\n",
      "If you would like to investigate further, please run:\n",
      "eventplotter.py or eventplotter_all.py\n"
     ]
    }
   ],
   "source": [
    "# %% Most probable birds\n",
    "os.chdir(setbackpath)\n",
    "files = os.listdir(path)  # Get all the files in that directory\n",
    "txtfiles = []\n",
    "for filename in os.listdir(path):\n",
    "    if filename.endswith(\".txt\"):\n",
    "        name = os.path.join(path, filename)\n",
    "        txtfiles.append(name)\n",
    "    else:\n",
    "        nonimagecount = +1\n",
    "        continue\n",
    "# %%\n",
    "knbirds = []\n",
    "source = []\n",
    "confidences = []\n",
    "for k in range(len(txtfiles)):\n",
    "    birdtxt = txtfiles[k]\n",
    "    df = pd.read_csv(birdtxt, sep='\\t')\n",
    "    for i in range(1, len(df)):\n",
    "        confid = df['Confidence'][i]\n",
    "        confid = float(confid)\n",
    "        if confid > threshold:\n",
    "            # knbirds.append(confid)\n",
    "            bird = df['Common Name'][i]\n",
    "            knbirds.append(bird)\n",
    "            audio = df['Begin File'][i]\n",
    "            source.append(audio)\n",
    "            confidences.append(confid)\n",
    "        else:\n",
    "            pass\n",
    "\n",
    "df = pd.DataFrame(list(zip(knbirds, confidences, source)),\n",
    "                  columns=['Species', 'Confidence', 'Audio Source'])\n",
    "\n",
    "print('The most probable bird detections in this batch are as follows:')\n",
    "print(df)\n",
    "\n",
    "# %% graphing things\n",
    "df1 = pd.DataFrame(list(zip(knbirds, source)),\n",
    "                   columns=['Species', 'Audio Source'])\n",
    "df1 = df1.groupby(df1.columns.tolist()).size().to_frame('Count').reset_index()\n",
    "\n",
    "specieslist = []\n",
    "[specieslist.append(x) for x in knbirds if x not in specieslist]\n",
    "\n",
    "\n",
    "# %%\n",
    "print('Here are the species found:')\n",
    "print(specieslist)\n",
    "print('If you would like to investigate further, please run:')\n",
    "print('eventplotter.py or eventplotter_all.py')\n"
   ]
  },
  {
   "cell_type": "code",
   "execution_count": 11,
   "id": "dbdf9316",
   "metadata": {},
   "outputs": [
    {
     "data": {
      "text/plain": [
       "['quail.BirdNET.selections.txt', 'quail.wav']"
      ]
     },
     "execution_count": 11,
     "metadata": {},
     "output_type": "execute_result"
    }
   ],
   "source": []
  },
  {
   "cell_type": "code",
   "execution_count": null,
   "id": "8be0788b",
   "metadata": {},
   "outputs": [],
   "source": []
  }
 ],
 "metadata": {
  "kernelspec": {
   "display_name": "Python 3 (ipykernel)",
   "language": "python",
   "name": "python3"
  },
  "language_info": {
   "codemirror_mode": {
    "name": "ipython",
    "version": 3
   },
   "file_extension": ".py",
   "mimetype": "text/x-python",
   "name": "python",
   "nbconvert_exporter": "python",
   "pygments_lexer": "ipython3",
   "version": "3.8.8"
  }
 },
 "nbformat": 4,
 "nbformat_minor": 5
}
