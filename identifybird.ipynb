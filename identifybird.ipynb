{
 "cells": [
  {
   "cell_type": "code",
   "execution_count": 1,
   "id": "c4dc56e4",
   "metadata": {},
   "outputs": [
    {
     "data": {
      "text/plain": [
       "'\\nCreated on Wed April 13 23:01:53 2022\\n\\n@author: amandabreton\\nAllows user to pick view a species result from eventchecker.py.\\nTakes in the text files created by BirdNET and provides\\nthe user with a list of the most probable bird species.\\nThe user then tells the script which speices they would\\nlike to investigate further and a graph is shown that\\nshows how the counts of that bird species changes throughout\\nthe day.\\n\\n'"
      ]
     },
     "execution_count": 1,
     "metadata": {},
     "output_type": "execute_result"
    }
   ],
   "source": [
    "#!/usr/bin/env python3\n",
    "# -*- coding: utf-8 -*-\n",
    "\"\"\"\n",
    "Created on Wed April 13 23:01:53 2022\n",
    "\n",
    "@author: amandabreton\n",
    "Allows user to pick view a species result from eventchecker.py.\n",
    "Takes in the text files created by BirdNET and provides\n",
    "the user with a list of the most probable bird species.\n",
    "The user then tells the script which speices they would\n",
    "like to investigate further and a graph is shown that\n",
    "shows how the counts of that bird species changes throughout\n",
    "the day.\n",
    "\n",
    "\"\"\""
   ]
  },
  {
   "cell_type": "code",
   "execution_count": 2,
   "id": "d5aecea6",
   "metadata": {},
   "outputs": [],
   "source": [
    "# import tool boxes \n",
    "import scipy.io.wavfile\n",
    "import os\n",
    "import pandas as pd\n",
    "import subprocess\n",
    "from subprocess import call\n",
    "import argparse\n",
    "import yaml\n",
    "import numpy as np\n",
    "import exiftool\n",
    "import matplotlib.pyplot as plt"
   ]
  },
  {
   "cell_type": "code",
   "execution_count": 3,
   "id": "80f7fa11",
   "metadata": {},
   "outputs": [],
   "source": [
    "# %% setup your files\n",
    "# NOTE: you will probably have to change this: s\n",
    "csvpath = '/Users/amandabreton/Documents/GitHub/ECE-590-Identification-of-Species/audio_CSVout/'\n",
    "path = '/Users/amandabreton/Documents/GitHub/ECE-590-Identification-of-Species/audio_bestbirds/'\n",
    "#analyzepath = 'analyze.py'\n",
    "analyzepath = '/Users/amandabreton/Documents/GitHub/BirdNET/analyze.py'\n",
    "# birdnetpath = 'BirdNET/'\n",
    "birdnetpath = '/Users/amandabreton/Documents/GitHub/BirdNET'\n",
    "setbackpath = '/Users/amandabreton/Documents/GitHub/ECE-590-Identification-of-Species'\n",
    "threshold = 0.85"
   ]
  },
  {
   "cell_type": "code",
   "execution_count": 4,
   "id": "ead39fd9",
   "metadata": {},
   "outputs": [],
   "source": [
    "# %% getting which files are audio\n",
    "for filename in os.listdir(path):\n",
    "    if filename.endswith(\".wav\") or filename.endswith(\".WAV\"):\n",
    "        name = os.path.join(path, filename)\n",
    "    else:\n",
    "        continue\n",
    "\n",
    "if os.path.exists(os.path.join(path, \".DS_Store\")):\n",
    "    os.remove(os.path.join(path, \".DS_Store\"))\n",
    "else:\n",
    "    pass\n",
    "\n",
    "sounds = [os.path.join(path, name) for name in os.listdir(path) if\n",
    "          os.path.isfile(os.path.join(path, name))]"
   ]
  },
  {
   "cell_type": "code",
   "execution_count": 5,
   "id": "b3934951",
   "metadata": {},
   "outputs": [
    {
     "name": "stdout",
     "output_type": "stream",
     "text": [
      "FILES IN DATASET: 1 \n",
      "LOADING SNAPSHOT BirdNET_Soundscape_Model.pkl ... DONE! \n",
      "BUILDING BirdNET MODEL... DONE! \n",
      "IMPORTING MODEL PARAMS... DONE! \n",
      "COMPILING THEANO TEST FUNCTION FUNCTION... DONE! \n",
      "LOADING eBIRD GRID DATA... DONE! 13800 GRID CELLS \n",
      "SID: 1 PROCESSING: plover.wav SPECIES: 987 DETECTIONS: 10 TIME: 1 \n",
      "BirdNET done analyzing  audio file #0\n",
      "FILES IN DATASET: 1 \n",
      "LOADING SNAPSHOT BirdNET_Soundscape_Model.pkl ... DONE! \n",
      "BUILDING BirdNET MODEL... DONE! \n",
      "IMPORTING MODEL PARAMS... DONE! \n",
      "COMPILING THEANO TEST FUNCTION FUNCTION... DONE! \n",
      "LOADING eBIRD GRID DATA... DONE! 13800 GRID CELLS \n",
      "SID: 1 PROCESSING: Hummingbird.wav SPECIES: 987 DETECTIONS: 8 TIME: 2 \n",
      "BirdNET done analyzing  audio file #1\n"
     ]
    },
    {
     "name": "stderr",
     "output_type": "stream",
     "text": [
      "usage: analyze.py [-h] [--i I] [--o O] [--filetype FILETYPE]\n",
      "                  [--results RESULTS] [--lat LAT] [--lon LON] [--week WEEK]\n",
      "                  [--overlap OVERLAP] [--spp SPP] [--sensitivity SENSITIVITY]\n",
      "                  [--min_conf MIN_CONF]\n",
      "analyze.py: error: unrecognized arguments: WingBandedAntbird.wav\n"
     ]
    },
    {
     "name": "stdout",
     "output_type": "stream",
     "text": [
      "BirdNET done analyzing  audio file #2\n"
     ]
    },
    {
     "name": "stderr",
     "output_type": "stream",
     "text": [
      "usage: analyze.py [-h] [--i I] [--o O] [--filetype FILETYPE]\n",
      "                  [--results RESULTS] [--lat LAT] [--lon LON] [--week WEEK]\n",
      "                  [--overlap OVERLAP] [--spp SPP] [--sensitivity SENSITIVITY]\n",
      "                  [--min_conf MIN_CONF]\n",
      "analyze.py: error: unrecognized arguments: Martin.wav\n"
     ]
    },
    {
     "name": "stdout",
     "output_type": "stream",
     "text": [
      "BirdNET done analyzing  audio file #3\n",
      "FILES IN DATASET: 1 \n",
      "LOADING SNAPSHOT BirdNET_Soundscape_Model.pkl ... DONE! \n",
      "BUILDING BirdNET MODEL... DONE! \n",
      "IMPORTING MODEL PARAMS... DONE! \n",
      "COMPILING THEANO TEST FUNCTION FUNCTION... DONE! \n",
      "LOADING eBIRD GRID DATA... DONE! 13800 GRID CELLS \n",
      "SID: 1 PROCESSING: CactusWren.wav SPECIES: 987 DETECTIONS: 6 TIME: 1 \n",
      "BirdNET done analyzing  audio file #4\n",
      "BirdNET done analyzing  audio file #5\n",
      "BirdNET done analyzing 6 audio files\n"
     ]
    },
    {
     "name": "stderr",
     "output_type": "stream",
     "text": [
      "usage: analyze.py [-h] [--i I] [--o O] [--filetype FILETYPE]\n",
      "                  [--results RESULTS] [--lat LAT] [--lon LON] [--week WEEK]\n",
      "                  [--overlap OVERLAP] [--spp SPP] [--sensitivity SENSITIVITY]\n",
      "                  [--min_conf MIN_CONF]\n",
      "analyze.py: error: unrecognized arguments: Sparrow.wav\n"
     ]
    }
   ],
   "source": [
    "# %% putting the info into a data frame\n",
    "df = pd.DataFrame(list(zip(sounds)),\n",
    "                  columns=['Audio_Paths'])\n",
    "\n",
    "# %% sending files to BirdNET analyze\n",
    "os.chdir(birdnetpath)\n",
    "\n",
    "for i in range(len(df['Audio_Paths'])):\n",
    "    birdaud = str('python ') + str(analyzepath) + str(' --i ') + str(df['Audio_Paths'][i])\n",
    "    subprocess.call(birdaud, shell=True)\n",
    "    print('BirdNET done analyzing  audio file #' + str((i)))\n",
    "\n",
    "print('BirdNET done analyzing ' + str(len(df['Audio_Paths']))\n",
    "      + ' audio files')"
   ]
  },
  {
   "cell_type": "code",
   "execution_count": 6,
   "id": "fa41b1f1",
   "metadata": {},
   "outputs": [
    {
     "name": "stdout",
     "output_type": "stream",
     "text": [
      "The most probable bird detections in this batch are as follows:\n",
      "                Species  Confidence    Audio Source\n",
      "0           Cactus Wren    0.999124  CactusWren.wav\n",
      "1           Cactus Wren    0.858004  CactusWren.wav\n",
      "2  Little Ringed Plover    0.999680      plover.wav\n",
      "3  Little Ringed Plover    0.999914      plover.wav\n",
      "4        Kentish Plover    0.925946      plover.wav\n",
      "5  Little Ringed Plover    0.999832      plover.wav\n",
      "Here are the species found:\n",
      "['Cactus Wren', 'Little Ringed Plover', 'Kentish Plover']\n"
     ]
    }
   ],
   "source": [
    "# %% Most probable birds\n",
    "os.chdir(setbackpath)\n",
    "files = os.listdir(path)  # Get all the files in that directory\n",
    "txtfiles = []\n",
    "for filename in os.listdir(path):\n",
    "    if filename.endswith(\".txt\"):\n",
    "        name = os.path.join(path, filename)\n",
    "        txtfiles.append(name)\n",
    "    else:\n",
    "        nonimagecount = +1\n",
    "        continue\n",
    "# %%\n",
    "knbirds = []\n",
    "source = []\n",
    "confidences = []\n",
    "for k in range(len(txtfiles)):\n",
    "    birdtxt = txtfiles[k]\n",
    "    df = pd.read_csv(birdtxt, sep='\\t')\n",
    "    for i in range(1, len(df)):\n",
    "        confid = df['Confidence'][i]\n",
    "        confid = float(confid)\n",
    "        if confid > threshold:\n",
    "            # knbirds.append(confid)\n",
    "            bird = df['Common Name'][i]\n",
    "            knbirds.append(bird)\n",
    "            audio = df['Begin File'][i]\n",
    "            source.append(audio)\n",
    "            confidences.append(confid)\n",
    "        else:\n",
    "            pass\n",
    "\n",
    "df = pd.DataFrame(list(zip(knbirds, confidences, source)),\n",
    "                  columns=['Species', 'Confidence', 'Audio Source'])\n",
    "\n",
    "print('The most probable bird detections in this batch are as follows:')\n",
    "print(df)\n",
    "\n",
    "# %% graphing things\n",
    "df1 = pd.DataFrame(list(zip(knbirds, source)),\n",
    "                   columns=['Species', 'Audio Source'])\n",
    "df1 = df1.groupby(df1.columns.tolist()).size().to_frame('Count').reset_index()\n",
    "\n",
    "specieslist = []\n",
    "[specieslist.append(x) for x in knbirds if x not in specieslist]\n",
    "\n",
    "\n",
    "# %%\n",
    "print('Here are the species found:')\n",
    "print(specieslist)"
   ]
  },
  {
   "cell_type": "code",
   "execution_count": null,
   "id": "8f59fc61",
   "metadata": {},
   "outputs": [],
   "source": []
  },
  {
   "cell_type": "code",
   "execution_count": null,
   "id": "a7f94b8a",
   "metadata": {},
   "outputs": [],
   "source": []
  }
 ],
 "metadata": {
  "kernelspec": {
   "display_name": "Python 3 (ipykernel)",
   "language": "python",
   "name": "python3"
  },
  "language_info": {
   "codemirror_mode": {
    "name": "ipython",
    "version": 3
   },
   "file_extension": ".py",
   "mimetype": "text/x-python",
   "name": "python",
   "nbconvert_exporter": "python",
   "pygments_lexer": "ipython3",
   "version": "3.8.8"
  }
 },
 "nbformat": 4,
 "nbformat_minor": 5
}
