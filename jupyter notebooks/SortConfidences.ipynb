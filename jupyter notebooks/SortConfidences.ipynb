{
 "cells": [
  {
   "cell_type": "code",
   "execution_count": 1,
   "id": "59f56dc9",
   "metadata": {},
   "outputs": [
    {
     "data": {
      "text/plain": [
       "'\\nCreated on Fri Feb  4 09:48:15 2022\\n\\n@author: amandabreton\\n\\nFunction: Moves audio files above a given threshold to a given\\nfolder, and audio files below threshold to another folder.\\n'"
      ]
     },
     "execution_count": 1,
     "metadata": {},
     "output_type": "execute_result"
    }
   ],
   "source": [
    "#!/usr/bin/env python3\n",
    "# -*- coding: utf-8 -*-\n",
    "\"\"\"\n",
    "Created on Fri Feb  4 09:48:15 2022\n",
    "\n",
    "@author: amandabreton\n",
    "\n",
    "Function: Moves audio files above a given threshold to a given\n",
    "folder, and audio files below threshold to another folder.\n",
    "\"\"\""
   ]
  },
  {
   "cell_type": "code",
   "execution_count": 2,
   "id": "c3cf1cee",
   "metadata": {},
   "outputs": [],
   "source": [
    "# %% load packages\n",
    "import pandas as pd\n",
    "import argparse\n",
    "import yaml\n",
    "import os\n",
    "import shutil"
   ]
  },
  {
   "cell_type": "code",
   "execution_count": 3,
   "id": "2e14d70f",
   "metadata": {},
   "outputs": [],
   "source": [
    "# %% parsing in information\n",
    "threshold = 0.75\n",
    "source = 'output/'\n",
    "CSVpath = 'outputCSV/'\n",
    "highdestination = 'highdestination/'\n",
    "lowdestination = 'lowdestination/'"
   ]
  },
  {
   "cell_type": "code",
   "execution_count": 4,
   "id": "0ff3c863",
   "metadata": {},
   "outputs": [],
   "source": [
    "# %% getting the file information\n",
    "if os.path.exists(os.path.join(CSVpath, \".DS_Store\")):\n",
    "    os.remove(os.path.join(CSVpath, \".DS_Store\"))\n",
    "else:\n",
    "    pass"
   ]
  },
  {
   "cell_type": "code",
   "execution_count": 5,
   "id": "e44d48d2",
   "metadata": {},
   "outputs": [],
   "source": [
    "# %% load up the csv file\n",
    "i = 0 \n",
    "for filename in os.listdir(CSVpath):\n",
    "    filepath = os.path.join(CSVpath, filename)\n",
    "    df = pd.read_csv(filepath, usecols=['Audio_Name', 'Highest_Confidence'])\n",
    "    # %% sort high and low confidence files into seperate folder\n",
    "    for i in range(len(df['Audio_Name'])):\n",
    "        confidence = float(df['Highest_Confidence'][i][1:-1])\n",
    "        audiofile = str(df[\"Audio_Name\"][i])\n",
    "        if confidence > threshold:\n",
    "            shutil.move(source + audiofile, highdestination+audiofile)\n",
    "        else:\n",
    "            shutil.move(source + audiofile, lowdestination+audiofile)"
   ]
  },
  {
   "cell_type": "code",
   "execution_count": null,
   "id": "be6021fe",
   "metadata": {},
   "outputs": [],
   "source": [
    "print(\"All done :)\")"
   ]
  },
  {
   "cell_type": "code",
   "execution_count": null,
   "id": "4e8897a5",
   "metadata": {},
   "outputs": [],
   "source": []
  }
 ],
 "metadata": {
  "kernelspec": {
   "display_name": "Python 3 (ipykernel)",
   "language": "python",
   "name": "python3"
  },
  "language_info": {
   "codemirror_mode": {
    "name": "ipython",
    "version": 3
   },
   "file_extension": ".py",
   "mimetype": "text/x-python",
   "name": "python",
   "nbconvert_exporter": "python",
   "pygments_lexer": "ipython3",
   "version": "3.8.8"
  }
 },
 "nbformat": 4,
 "nbformat_minor": 5
}
