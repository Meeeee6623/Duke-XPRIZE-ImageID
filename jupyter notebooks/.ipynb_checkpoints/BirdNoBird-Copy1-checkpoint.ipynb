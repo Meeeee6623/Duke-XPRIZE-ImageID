{
 "cells": [
  {
   "cell_type": "code",
   "execution_count": null,
   "id": "d8747800",
   "metadata": {},
   "outputs": [],
   "source": [
    "#!/usr/bin/env python3\n",
    "# -*- coding: utf-8 -*-\n",
    "\"\"\"\n",
    "Created on Sun Jan 30 12:03:30 2022\n",
    "\n",
    "@author: amandabreton\n",
    "\n",
    "Function: Checks if there is the potential for a bird in a sound file.\n",
    "Use after \"SplitAudio.py\". Utilizes microfaune to determine bird potential.\n",
    "\"\"\""
   ]
  },
  {
   "cell_type": "code",
   "execution_count": null,
   "id": "660c78f4",
   "metadata": {},
   "outputs": [],
   "source": [
    "# %% Import tools\n",
    "from microfaune.detection import RNNDetector\n",
    "import pandas as pd\n",
    "import argparse\n",
    "import yaml\n",
    "import os\n",
    "import scipy.io.wavfile\n",
    "import shutil"
   ]
  },
  {
   "cell_type": "code",
   "execution_count": null,
   "id": "5b72cd91",
   "metadata": {},
   "outputs": [],
   "source": [
    "# %%\n",
    "folder = 'audio_input'\n",
    "CSVpath = 'audio_CSVout'\n",
    "destination = 'audio_output'"
   ]
  },
  {
   "cell_type": "code",
   "execution_count": null,
   "id": "c304b8da",
   "metadata": {},
   "outputs": [],
   "source": [
    "# %% getting which files are audio\n",
    "if os.path.exists(os.path.join(folder, \".DS_Store\")):\n",
    "    os.remove(os.path.join(folder, \".DS_Store\"))\n",
    "else:\n",
    "    # print(\"no .DS_Store files\")\n",
    "    pass\n",
    "\n",
    "for filename in os.listdir(folder):\n",
    "    if filename.endswith(\".WAV\"):\n",
    "        name = os.path.join(folder, filename)\n",
    "    else:\n",
    "        nonimagecount = +1\n",
    "        continue"
   ]
  },
  {
   "cell_type": "code",
   "execution_count": null,
   "id": "39844a2b",
   "metadata": {},
   "outputs": [],
   "source": [
    "audioList = []\n",
    "for filename in os.listdir(folder):\n",
    "    if filename.endswith(\".WAV\") or filename.endswith(\".wav\"):\n",
    "        audioList.append(filename)\n",
    "    \n",
    "    else:\n",
    "        continue\n",
    "\n",
    "# %% Run microfaune\n",
    "audioName = []\n",
    "confidence = []\n",
    "\n",
    "for i in range(len(audioList)):\n",
    "    detector = RNNDetector()\n",
    "    currentSoundPath = folder + audioList[i]\n",
    "    currentSound = audioList[i]\n",
    "    global_score, local_score = detector.predict_on_wav(currentSoundPath)\n",
    "    s, audData = scipy.io.wavfile.read(currentSoundPath)\n",
    "    audioName.append(currentSound)\n",
    "    confidence.append(global_score)\n",
    "    shutil.move(folder + currentSound, destination + currentSound)"
   ]
  },
  {
   "cell_type": "code",
   "execution_count": null,
   "id": "a7400a2b",
   "metadata": {},
   "outputs": [],
   "source": [
    "# %% print to a CSV file to view\n",
    "df = pd.DataFrame(list(zip(audioList, confidence)), columns=['Audio_Name', 'Highest_Confidence'])\n",
    "\n",
    "if os.path.exists(os.path.join(CSVpath, \"BirdConfidences.csv\")):\n",
    "    counter = 1\n",
    "    while os.path.exists(path):\n",
    "        path = filename + \" (\" + str(counter) + \")\" + extension\n",
    "        counter += 1\n",
    "else:\n",
    "    path = CSVpath + \"/BirdConfidences.csv\"\n",
    "\n",
    "df.to_csv(path)"
   ]
  }
 ],
 "metadata": {
  "kernelspec": {
   "display_name": "Python 3 (ipykernel)",
   "language": "python",
   "name": "python3"
  },
  "language_info": {
   "codemirror_mode": {
    "name": "ipython",
    "version": 3
   },
   "file_extension": ".py",
   "mimetype": "text/x-python",
   "name": "python",
   "nbconvert_exporter": "python",
   "pygments_lexer": "ipython3",
   "version": "3.8.8"
  }
 },
 "nbformat": 4,
 "nbformat_minor": 5
}
