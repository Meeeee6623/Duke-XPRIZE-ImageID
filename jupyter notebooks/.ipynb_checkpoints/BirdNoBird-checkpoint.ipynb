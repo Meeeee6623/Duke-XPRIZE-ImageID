{
 "cells": [
  {
   "cell_type": "code",
   "execution_count": null,
   "id": "a2abc78f",
   "metadata": {},
   "outputs": [],
   "source": [
    "#!/usr/bin/env python3\n",
    "# -*- coding: utf-8 -*-\n",
    "\"\"\"\n",
    "Created on Sun Jan 30 12:03:30 2022\n",
    "\n",
    "@author: amandabreton\n",
    "\n",
    "Function: Checks if there is the potential for a bird in a sound file.\n",
    "Use after \"SplitAudio.py\". Utilizes microfaune to determine bird potential.\n",
    "\"\"\""
   ]
  },
  {
   "cell_type": "code",
   "execution_count": null,
   "id": "8d732b1a",
   "metadata": {},
   "outputs": [],
   "source": [
    "# %% Import tools\n",
    "from microfaune.detection import RNNDetector\n",
    "import pandas as pd\n",
    "import argparse\n",
    "import yaml\n",
    "import os\n",
    "import scipy.io.wavfile\n",
    "import shutil"
   ]
  },
  {
   "cell_type": "code",
   "execution_count": null,
   "id": "3cea4f76",
   "metadata": {},
   "outputs": [],
   "source": [
    "# %%\n",
    "parser = argparse.ArgumentParser()\n",
    "parser.add_argument('config_filename')\n",
    "args = parser.parse_args()\n",
    "CONFIG_FILE = args.config_filename\n",
    "with open(CONFIG_FILE) as f:\n",
    "    configs = yaml.load(f, Loader=yaml.SafeLoader)\n",
    "folder = configs['foldername']\n",
    "CSVpath = configs['CSVpath']\n",
    "destination = configs['destination']"
   ]
  },
  {
   "cell_type": "code",
   "execution_count": null,
   "id": "1688fd59",
   "metadata": {},
   "outputs": [],
   "source": [
    "# %% getting which files are audio\n",
    "if os.path.exists(os.path.join(folder, \".DS_Store\")):\n",
    "    os.remove(os.path.join(folder, \".DS_Store\"))\n",
    "else:\n",
    "    # print(\"no .DS_Store files\")\n",
    "    pass\n",
    "\n",
    "if os.path.exists(os.path.join(CSVpath, \"BirdConfidences.csv\")):\n",
    "    os.remove(os.path.join(CSVpath, \"BirdConfidences.csv\"))\n",
    "else:\n",
    "    # print(\"no audiocsv.csv file\")\n",
    "    pass\n",
    "\n",
    "for filename in os.listdir(folder):\n",
    "    if filename.endswith(\".WAV\"):\n",
    "        name = os.path.join(folder, filename)\n",
    "    else:\n",
    "        nonimagecount = +1\n",
    "        continue"
   ]
  },
  {
   "cell_type": "code",
   "execution_count": null,
   "id": "171700aa",
   "metadata": {},
   "outputs": [],
   "source": [
    "audioList = []\n",
    "for filename in os.listdir(folder):\n",
    "    if filename.endswith(\".WAV\") or filename.endswith(\".wav\"):\n",
    "        audioList.append(filename)\n",
    "    \n",
    "    else:\n",
    "        continue\n",
    "\n",
    "# %% Run microfaune\n",
    "audioName = []\n",
    "confidence = []\n",
    "\n",
    "for i in range(len(audioList)):\n",
    "    detector = RNNDetector()\n",
    "    currentSoundPath = folder + audioList[i]\n",
    "    currentSound = audioList[i]\n",
    "    global_score, local_score = detector.predict_on_wav(currentSoundPath)\n",
    "    s, audData = scipy.io.wavfile.read(currentSoundPath)\n",
    "    audioName.append(currentSound)\n",
    "    confidence.append(global_score)\n",
    "    shutil.move(folder + currentSound, destination + currentSound)\n",
    "\n",
    "\n",
    "# %% print to a CSV file to view\n",
    "df = pd.DataFrame(list(zip(audioList, confidence)),\n",
    "                  columns=['Audio_Name', 'Highest_Confidence'])\n",
    "path = CSVpath + \"/BirdConfidences.csv\"\n",
    "df.to_csv(path)"
   ]
  }
 ],
 "metadata": {
  "kernelspec": {
   "display_name": "Python 3 (ipykernel)",
   "language": "python",
   "name": "python3"
  },
  "language_info": {
   "codemirror_mode": {
    "name": "ipython",
    "version": 3
   },
   "file_extension": ".py",
   "mimetype": "text/x-python",
   "name": "python",
   "nbconvert_exporter": "python",
   "pygments_lexer": "ipython3",
   "version": "3.8.8"
  }
 },
 "nbformat": 4,
 "nbformat_minor": 5
}
