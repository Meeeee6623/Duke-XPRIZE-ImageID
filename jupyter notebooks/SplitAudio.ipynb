{
 "cells": [
  {
   "cell_type": "code",
   "execution_count": 2,
   "id": "1a301c05",
   "metadata": {},
   "outputs": [
    {
     "data": {
      "text/plain": [
       "'\\nCreated on Sun Jan 30 11:22:59 2022\\n\\n@author: amandabreton\\n\\nFunction: Splits audio into smaller sections\\n'"
      ]
     },
     "execution_count": 2,
     "metadata": {},
     "output_type": "execute_result"
    }
   ],
   "source": [
    "#!/usr/bin/env python3\n",
    "# -*- coding: utf-8 -*-\n",
    "\"\"\"\n",
    "Created on Sun Jan 30 11:22:59 2022\n",
    "\n",
    "@author: amandabreton\n",
    "\n",
    "Function: Splits audio into smaller sections. \n",
    "\"\"\""
   ]
  },
  {
   "cell_type": "code",
   "execution_count": 3,
   "id": "2d6e6355",
   "metadata": {},
   "outputs": [],
   "source": [
    "from pydub import AudioSegment\n",
    "import math\n",
    "import argparse\n",
    "import yaml\n",
    "import shutil\n",
    "import os"
   ]
  },
  {
   "cell_type": "code",
   "execution_count": 4,
   "id": "0a34e8e5",
   "metadata": {},
   "outputs": [],
   "source": [
    "folder = \"ToSplit/\"\n",
    "source = folder\n",
    "destination = 'input/'\n",
    "duration = 1"
   ]
  },
  {
   "cell_type": "code",
   "execution_count": 5,
   "id": "65687a43",
   "metadata": {},
   "outputs": [],
   "source": [
    "class SplitWavAudioMubin():\n",
    "    \"\"\"Function: Splits audio into smaller sections.\"\"\"\n",
    "\n",
    "    def __init__(self, folder, filename):\n",
    "        self.folder = folder\n",
    "        self.filename = filename\n",
    "        self.filepath = folder + '/' + filename\n",
    "        self.audio = AudioSegment.from_wav(self.filepath)\n",
    "        self.destination = destination\n",
    "        self.source = source\n",
    "\n",
    "    def get_duration(self):\n",
    "        \"\"\"Get the duration of the audio file.\"\"\"\n",
    "        return self.audio.duration_seconds\n",
    "\n",
    "    def single_split(self, from_min, to_min, split_filename):\n",
    "        \"\"\"Perform single split on file.\"\"\"\n",
    "        t1 = from_min * 60 * 1000\n",
    "        t2 = to_min * 60 * 1000\n",
    "        split_audio = self.audio[t1:t2]\n",
    "        split_audio.export(self.folder + '/' + split_filename, format=\"wav\")\n",
    "\n",
    "    def multiple_split(self, min_per_split):\n",
    "        \"\"\"Perform multiple splits on file.\"\"\"\n",
    "        total_mins = math.ceil(self.get_duration() / 60)\n",
    "        audioList = []\n",
    "        for i in range(0, total_mins, min_per_split):\n",
    "            split_fn = str(i) + '_' + self.filename\n",
    "            self.single_split(i, i+min_per_split, split_fn)\n",
    "            audioList.append(split_fn)\n",
    "            print(str(i) + ' Done')\n",
    "            if i == total_mins - min_per_split:\n",
    "                print('All splited successfully')\n",
    "                for f in audioList:\n",
    "                    shutil.move(self.source + f, self.destination + f)"
   ]
  },
  {
   "cell_type": "code",
   "execution_count": 7,
   "id": "73f596dd",
   "metadata": {},
   "outputs": [
    {
     "name": "stdout",
     "output_type": "stream",
     "text": [
      "0 Done\n",
      "1 Done\n",
      "All splited successfully\n",
      "Done splitting audio. Please run BirdNoBird\n"
     ]
    }
   ],
   "source": [
    "# %% Getting the file names\n",
    "if os.path.exists(os.path.join(folder, \".DS_Store\")):\n",
    "    os.remove(os.path.join(folder, \".DS_Store\"))\n",
    "else:\n",
    "    pass\n",
    "audioList = []\n",
    "for filename in os.listdir(folder):\n",
    "    if filename.endswith(\".WAV\") or filename.endswith(\".wav\"):\n",
    "        audioList.append(filename)\n",
    "        # print(filename)\n",
    "    else:\n",
    "        nonimagecount = +1\n",
    "        continue\n",
    "# %% Splitting execution\n",
    "for i in range(len(audioList)):\n",
    "    file = audioList[i]\n",
    "    split_wav = SplitWavAudioMubin(folder, file)\n",
    "    split_wav.multiple_split(min_per_split=duration)\n",
    "\n",
    "print('Please run BirdNoBird')"
   ]
  },
  {
   "cell_type": "code",
   "execution_count": null,
   "id": "4c47fdd5",
   "metadata": {},
   "outputs": [],
   "source": []
  }
 ],
 "metadata": {
  "kernelspec": {
   "display_name": "Python 3 (ipykernel)",
   "language": "python",
   "name": "python3"
  },
  "language_info": {
   "codemirror_mode": {
    "name": "ipython",
    "version": 3
   },
   "file_extension": ".py",
   "mimetype": "text/x-python",
   "name": "python",
   "nbconvert_exporter": "python",
   "pygments_lexer": "ipython3",
   "version": "3.8.8"
  }
 },
 "nbformat": 4,
 "nbformat_minor": 5
}
