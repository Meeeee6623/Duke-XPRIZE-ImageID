{
 "cells": [
  {
   "cell_type": "code",
   "execution_count": 7,
   "id": "0f54fa1e",
   "metadata": {},
   "outputs": [
    {
     "name": "stdout",
     "output_type": "stream",
     "text": [
      "Requirement already satisfied: opencv-python in /Users/amandabreton/anaconda3/lib/python3.8/site-packages (4.2.0.32)\n",
      "Requirement already satisfied: numpy>=1.17.3 in /Users/amandabreton/anaconda3/lib/python3.8/site-packages (from opencv-python) (1.18.5)\n",
      "Requirement already satisfied: google-cloud-vision in /Users/amandabreton/anaconda3/lib/python3.8/site-packages (2.7.0)\n",
      "Requirement already satisfied: google-api-core[grpc]<3.0.0dev,>=1.28.0 in /Users/amandabreton/anaconda3/lib/python3.8/site-packages (from google-cloud-vision) (1.30.0)\n",
      "Requirement already satisfied: proto-plus>=1.15.0 in /Users/amandabreton/anaconda3/lib/python3.8/site-packages (from google-cloud-vision) (1.20.3)\n",
      "Requirement already satisfied: googleapis-common-protos<2.0dev,>=1.6.0 in /Users/amandabreton/anaconda3/lib/python3.8/site-packages (from google-api-core[grpc]<3.0.0dev,>=1.28.0->google-cloud-vision) (1.53.0)\n",
      "Requirement already satisfied: pytz in /Users/amandabreton/anaconda3/lib/python3.8/site-packages (from google-api-core[grpc]<3.0.0dev,>=1.28.0->google-cloud-vision) (2021.1)\n",
      "Requirement already satisfied: setuptools>=40.3.0 in /Users/amandabreton/anaconda3/lib/python3.8/site-packages (from google-api-core[grpc]<3.0.0dev,>=1.28.0->google-cloud-vision) (52.0.0.post20210125)\n",
      "Requirement already satisfied: six>=1.13.0 in /Users/amandabreton/anaconda3/lib/python3.8/site-packages (from google-api-core[grpc]<3.0.0dev,>=1.28.0->google-cloud-vision) (1.16.0)\n",
      "Requirement already satisfied: google-auth<2.0dev,>=1.25.0 in /Users/amandabreton/anaconda3/lib/python3.8/site-packages (from google-api-core[grpc]<3.0.0dev,>=1.28.0->google-cloud-vision) (1.31.0)\n",
      "Requirement already satisfied: protobuf>=3.12.0 in /Users/amandabreton/anaconda3/lib/python3.8/site-packages (from google-api-core[grpc]<3.0.0dev,>=1.28.0->google-cloud-vision) (3.19.4)\n",
      "Requirement already satisfied: requests<3.0.0dev,>=2.18.0 in /Users/amandabreton/anaconda3/lib/python3.8/site-packages (from google-api-core[grpc]<3.0.0dev,>=1.28.0->google-cloud-vision) (2.25.1)\n",
      "Requirement already satisfied: packaging>=14.3 in /Users/amandabreton/anaconda3/lib/python3.8/site-packages (from google-api-core[grpc]<3.0.0dev,>=1.28.0->google-cloud-vision) (20.9)\n",
      "Requirement already satisfied: grpcio<2.0dev,>=1.29.0 in /Users/amandabreton/anaconda3/lib/python3.8/site-packages (from google-api-core[grpc]<3.0.0dev,>=1.28.0->google-cloud-vision) (1.38.0)\n",
      "Requirement already satisfied: cachetools<5.0,>=2.0.0 in /Users/amandabreton/anaconda3/lib/python3.8/site-packages (from google-auth<2.0dev,>=1.25.0->google-api-core[grpc]<3.0.0dev,>=1.28.0->google-cloud-vision) (4.2.2)\n",
      "Requirement already satisfied: rsa<5,>=3.1.4 in /Users/amandabreton/anaconda3/lib/python3.8/site-packages (from google-auth<2.0dev,>=1.25.0->google-api-core[grpc]<3.0.0dev,>=1.28.0->google-cloud-vision) (4.7.2)\n",
      "Requirement already satisfied: pyasn1-modules>=0.2.1 in /Users/amandabreton/anaconda3/lib/python3.8/site-packages (from google-auth<2.0dev,>=1.25.0->google-api-core[grpc]<3.0.0dev,>=1.28.0->google-cloud-vision) (0.2.8)\n",
      "Requirement already satisfied: pyparsing>=2.0.2 in /Users/amandabreton/anaconda3/lib/python3.8/site-packages (from packaging>=14.3->google-api-core[grpc]<3.0.0dev,>=1.28.0->google-cloud-vision) (2.4.7)\n",
      "Requirement already satisfied: idna<3,>=2.5 in /Users/amandabreton/anaconda3/lib/python3.8/site-packages (from requests<3.0.0dev,>=2.18.0->google-api-core[grpc]<3.0.0dev,>=1.28.0->google-cloud-vision) (2.10)\n",
      "Requirement already satisfied: urllib3<1.27,>=1.21.1 in /Users/amandabreton/anaconda3/lib/python3.8/site-packages (from requests<3.0.0dev,>=2.18.0->google-api-core[grpc]<3.0.0dev,>=1.28.0->google-cloud-vision) (1.26.4)\n",
      "Requirement already satisfied: chardet<5,>=3.0.2 in /Users/amandabreton/anaconda3/lib/python3.8/site-packages (from requests<3.0.0dev,>=2.18.0->google-api-core[grpc]<3.0.0dev,>=1.28.0->google-cloud-vision) (4.0.0)\n",
      "Requirement already satisfied: certifi>=2017.4.17 in /Users/amandabreton/anaconda3/lib/python3.8/site-packages (from requests<3.0.0dev,>=2.18.0->google-api-core[grpc]<3.0.0dev,>=1.28.0->google-cloud-vision) (2020.12.5)\n",
      "Requirement already satisfied: pyasn1<0.5.0,>=0.4.6 in /Users/amandabreton/anaconda3/lib/python3.8/site-packages (from pyasn1-modules>=0.2.1->google-auth<2.0dev,>=1.25.0->google-api-core[grpc]<3.0.0dev,>=1.28.0->google-cloud-vision) (0.4.8)\n"
     ]
    }
   ],
   "source": [
    "#RUN THIS CODE FIRST!!!!!!!!!\n",
    "!pip install opencv-python\n",
    "!pip install google-cloud-vision"
   ]
  },
  {
   "cell_type": "code",
   "execution_count": 22,
   "id": "72cc293e",
   "metadata": {},
   "outputs": [],
   "source": [
    "import io\n",
    "import os\n",
    "import cv2\n",
    "import glob\n",
    "import requests\n",
    "import json\n",
    "# Imports the Google Cloud client library\n",
    "from google.cloud import vision\n",
    "from google.cloud.vision_v1 import types\n",
    "\n",
    "os.environ[\"GOOGLE_APPLICATION_CREDENTIALS\"]=\"credentials.json\""
   ]
  },
  {
   "cell_type": "code",
   "execution_count": 23,
   "id": "cce0383e",
   "metadata": {},
   "outputs": [],
   "source": [
    "# fps of video to frames\n",
    "fps = 20\n",
    "\n",
    "# Threshold of frame score\n",
    "threshold1 = 0.80\n",
    "threshold2 = 0.9\n",
    "\n",
    "# Read all videos\n",
    "path1 = 'input'\n",
    "#path2 = 'output1'\n",
    "vidnum = 0\n",
    "for video in glob.glob(os.path.join(path1, '*.[mM][pP]4')):\n",
    "    # Path to video file\n",
    "    vidObj = cv2.VideoCapture(video)\n",
    "\n",
    "    # Used as counter variable\n",
    "    count = 0\n",
    "\n",
    "    # Checks whether frames were extracted\n",
    "    success = 1\n",
    "\n",
    "    while success:\n",
    "        # vidObj object calls read\n",
    "        # function extract frames\n",
    "        success, image = vidObj.read()\n",
    "\n",
    "        if not success:\n",
    "            break\n",
    "\n",
    "        if count % fps == 0:\n",
    "            # Saves the frames with num\n",
    "            num = count\n",
    "            realcount = count/20\n",
    "            cv2.imwrite(\"output1/video\" + str(vidnum) +\n",
    "                        \"frame%d.jpg\" % realcount, image)\n",
    "\n",
    "        count += 1\n",
    "\n",
    "    vidnum += 1"
   ]
  },
  {
   "cell_type": "code",
   "execution_count": 24,
   "id": "edcc8eed",
   "metadata": {},
   "outputs": [
    {
     "name": "stdout",
     "output_type": "stream",
     "text": [
      "done cutting images from video\n"
     ]
    }
   ],
   "source": [
    "# Instantiates a client\n",
    "client = vision.ImageAnnotatorClient()\n",
    "\n",
    "# Read all frames\n",
    "path2 = 'output1'\n",
    "picture_list = []\n",
    "path_list = []\n",
    "for frame in glob.glob(os.path.join(path2, '*.jpg')):\n",
    "    # The name of the image file to annotate\n",
    "    file_name = os.path.abspath(frame)\n",
    "\n",
    "    # Loads the image into memory\n",
    "    with io.open(file_name, 'rb') as image_file:\n",
    "        content = image_file.read()\n",
    "\n",
    "    image = types.Image(content=content)\n",
    "\n",
    "    # Performs label detection on the image file\n",
    "    response = client.label_detection(image=image)\n",
    "    labels = response.label_annotations\n",
    "\n",
    "    # Step 1: Remove unqualified frames\n",
    "    score = 0\n",
    "    max_score = 0\n",
    "    max_label = ''\n",
    "    for label in labels:\n",
    "        score = label.score\n",
    "        #We do not need threshold1, can change to threshold2 (threshold1 is just for testing purposes)\n",
    "        if score > threshold1:\n",
    "            max_score = max(score,max_score)\n",
    "            #Error is right here\n",
    "            if max_score == score:\n",
    "                max_label = label\n",
    "            \n",
    "            #print(\"Score for \" + frame + \": \"+ \"with \"+label.description+ \":\"+ str(score))\n",
    "        \n",
    "    if max_score < threshold2:\n",
    "        os.remove(frame)\n",
    "        #print(\"---------DELETED---------\")\n",
    "\n",
    "    else:\n",
    "        picture_list.append([file_name, max_label.description, max_score])\n",
    "        path_list.append(file_name)\n",
    "    #print(\"---------------------------------------------------------------------\")\n",
    "print(\"done cutting images from video\")"
   ]
  },
  {
   "cell_type": "code",
   "execution_count": 25,
   "id": "7a6bead5",
   "metadata": {},
   "outputs": [],
   "source": [
    "#!pip3 install scikit-image opencv-python imutils\n",
    "# 1. Import the necessary packages\n",
    "from skimage.metrics import structural_similarity\n",
    "import imutils\n",
    "import cv2"
   ]
  },
  {
   "cell_type": "code",
   "execution_count": 26,
   "id": "239e644d",
   "metadata": {},
   "outputs": [
    {
     "name": "stdout",
     "output_type": "stream",
     "text": [
      "done filtering duplicate images\n"
     ]
    }
   ],
   "source": [
    "index = 0\n",
    "\n",
    "while (index < len(picture_list)-1 and len(picture_list) > 1):\n",
    "    \n",
    "    score_pic_1 = picture_list[index]\n",
    "    score_pic_2 = picture_list[index+1]\n",
    "    pic_1 = cv2.imread(path_list[index])\n",
    "    pic_2 = cv2.imread(path_list[index+1])\n",
    "    # Convert the images to grayscale\n",
    "    grayA = cv2.cvtColor(pic_1, cv2.COLOR_BGR2GRAY)\n",
    "    grayB = cv2.cvtColor(pic_2, cv2.COLOR_BGR2GRAY)\n",
    "    # Compute the Structural Similarity Index (SSIM) between the two \n",
    "    # images, ensuring that the difference image is returned\n",
    "    (score, diff) = structural_similarity(grayA, grayB, full=True)\n",
    "    diff = (diff * 255).astype(\"uint8\")\n",
    "\n",
    "    \n",
    "    if (score > 0.75):\n",
    "        if score_pic_1[2] < score_pic_2[2]:\n",
    "            os.remove(score_pic_1[0])\n",
    "            image = path_list[index]\n",
    "            path_list.remove(image)\n",
    "            picture_list.remove(score_pic_1)\n",
    "        else:\n",
    "            os.remove(score_pic_2[0]) \n",
    "            image = path_list[index+1]\n",
    "            path_list.remove(image)\n",
    "            picture_list.remove(score_pic_2)\n",
    "    else:\n",
    "        index += 1\n",
    "print(\"done filtering duplicate images\")"
   ]
  },
  {
   "cell_type": "code",
   "execution_count": null,
   "id": "100366b5",
   "metadata": {},
   "outputs": [],
   "source": []
  },
  {
   "cell_type": "code",
   "execution_count": null,
   "id": "6002da4f",
   "metadata": {},
   "outputs": [],
   "source": []
  }
 ],
 "metadata": {
  "kernelspec": {
   "display_name": "Python 3 (ipykernel)",
   "language": "python",
   "name": "python3"
  },
  "language_info": {
   "codemirror_mode": {
    "name": "ipython",
    "version": 3
   },
   "file_extension": ".py",
   "mimetype": "text/x-python",
   "name": "python",
   "nbconvert_exporter": "python",
   "pygments_lexer": "ipython3",
   "version": "3.8.8"
  }
 },
 "nbformat": 4,
 "nbformat_minor": 5
}
