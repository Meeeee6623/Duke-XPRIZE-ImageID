{
 "cells": [
  {
   "cell_type": "code",
   "execution_count": 1,
   "id": "d559c8e5",
   "metadata": {},
   "outputs": [
    {
     "data": {
      "text/plain": [
       "'\\nCreated on Sun Jan 30 12:03:30 2022\\n\\n@author: amandabreton\\n\\nFunction: Checks if there is the potential for a bird in a sound file.\\nUse after \"SplitAudio.py\". Utilizes microfaune to determine bird potential.\\n'"
      ]
     },
     "execution_count": 1,
     "metadata": {},
     "output_type": "execute_result"
    }
   ],
   "source": [
    "#!/usr/bin/env python3\n",
    "# -*- coding: utf-8 -*-\n",
    "\"\"\"\n",
    "Created on Sun Jan 30 12:03:30 2022\n",
    "\n",
    "@author: amandabreton\n",
    "\n",
    "Function: Checks if there is the potential for a bird in a sound file.\n",
    "Use after \"SplitAudio.py\". Utilizes microfaune to determine bird potential.\n",
    "\"\"\""
   ]
  },
  {
   "cell_type": "code",
   "execution_count": 2,
   "id": "1919bdcc",
   "metadata": {},
   "outputs": [],
   "source": [
    "# %% Import tools\n",
    "from microfaune.detection import RNNDetector\n",
    "import pandas as pd\n",
    "import argparse\n",
    "import yaml\n",
    "import os\n",
    "import scipy.io.wavfile\n",
    "import shutil"
   ]
  },
  {
   "cell_type": "code",
   "execution_count": 3,
   "id": "6621f604",
   "metadata": {},
   "outputs": [],
   "source": [
    "# %%\n",
    "folder = 'audio_input/'\n",
    "CSVpath = 'audio_CSVout/'\n",
    "destination = 'audio_output/'"
   ]
  },
  {
   "cell_type": "code",
   "execution_count": 4,
   "id": "9f7ce660",
   "metadata": {},
   "outputs": [],
   "source": [
    "# %% getting which files are audio\n",
    "if os.path.exists(os.path.join(folder, \".DS_Store\")):\n",
    "    os.remove(os.path.join(folder, \".DS_Store\"))\n",
    "else:\n",
    "    # print(\"no .DS_Store files\")\n",
    "    pass\n",
    "\n",
    "for filename in os.listdir(folder):\n",
    "    if filename.endswith(\".WAV\"):\n",
    "        name = os.path.join(folder, filename)\n",
    "    else:\n",
    "        nonimagecount = +1\n",
    "        continue"
   ]
  },
  {
   "cell_type": "code",
   "execution_count": 6,
   "id": "4e1703ec",
   "metadata": {},
   "outputs": [
    {
     "name": "stderr",
     "output_type": "stream",
     "text": [
      "/Users/amandabreton/anaconda3/lib/python3.8/site-packages/microfaune/audio.py:23: WavFileWarning: Chunk (non-data) not understood, skipping it.\n",
      "  fs, data = wavfile.read(path)\n"
     ]
    },
    {
     "name": "stdout",
     "output_type": "stream",
     "text": [
      "WARNING:tensorflow:5 out of the last 5 calls to <function Model.make_predict_function.<locals>.predict_function at 0x7fc57cfada60> triggered tf.function retracing. Tracing is expensive and the excessive number of tracings could be due to (1) creating @tf.function repeatedly in a loop, (2) passing tensors with different shapes, (3) passing Python objects instead of tensors. For (1), please define your @tf.function outside of the loop. For (2), @tf.function has experimental_relax_shapes=True option that relaxes argument shapes that can avoid unnecessary retracing. For (3), please refer to https://www.tensorflow.org/tutorials/customization/performance#python_or_tensor_args and https://www.tensorflow.org/api_docs/python/tf/function for  more details.\n"
     ]
    },
    {
     "name": "stderr",
     "output_type": "stream",
     "text": [
      "/var/folders/jp/8z738skn0x1f_g7hs22hqvzc0000gn/T/ipykernel_1388/253138433.py:18: WavFileWarning: Chunk (non-data) not understood, skipping it.\n",
      "  s, audData = scipy.io.wavfile.read(currentSoundPath)\n"
     ]
    },
    {
     "name": "stdout",
     "output_type": "stream",
     "text": [
      "WARNING:tensorflow:6 out of the last 6 calls to <function Model.make_predict_function.<locals>.predict_function at 0x7fc57b29e790> triggered tf.function retracing. Tracing is expensive and the excessive number of tracings could be due to (1) creating @tf.function repeatedly in a loop, (2) passing tensors with different shapes, (3) passing Python objects instead of tensors. For (1), please define your @tf.function outside of the loop. For (2), @tf.function has experimental_relax_shapes=True option that relaxes argument shapes that can avoid unnecessary retracing. For (3), please refer to https://www.tensorflow.org/tutorials/customization/performance#python_or_tensor_args and https://www.tensorflow.org/api_docs/python/tf/function for  more details.\n",
      "WARNING:tensorflow:7 out of the last 7 calls to <function Model.make_predict_function.<locals>.predict_function at 0x7fc56bf475e0> triggered tf.function retracing. Tracing is expensive and the excessive number of tracings could be due to (1) creating @tf.function repeatedly in a loop, (2) passing tensors with different shapes, (3) passing Python objects instead of tensors. For (1), please define your @tf.function outside of the loop. For (2), @tf.function has experimental_relax_shapes=True option that relaxes argument shapes that can avoid unnecessary retracing. For (3), please refer to https://www.tensorflow.org/tutorials/customization/performance#python_or_tensor_args and https://www.tensorflow.org/api_docs/python/tf/function for  more details.\n",
      "WARNING:tensorflow:8 out of the last 8 calls to <function Model.make_predict_function.<locals>.predict_function at 0x7fc56c782af0> triggered tf.function retracing. Tracing is expensive and the excessive number of tracings could be due to (1) creating @tf.function repeatedly in a loop, (2) passing tensors with different shapes, (3) passing Python objects instead of tensors. For (1), please define your @tf.function outside of the loop. For (2), @tf.function has experimental_relax_shapes=True option that relaxes argument shapes that can avoid unnecessary retracing. For (3), please refer to https://www.tensorflow.org/tutorials/customization/performance#python_or_tensor_args and https://www.tensorflow.org/api_docs/python/tf/function for  more details.\n"
     ]
    }
   ],
   "source": [
    "audioList = []\n",
    "for filename in os.listdir(folder):\n",
    "    if filename.endswith(\".WAV\") or filename.endswith(\".wav\"):\n",
    "        audioList.append(filename)\n",
    "    \n",
    "    else:\n",
    "        continue\n",
    "\n",
    "# %% Run microfaune\n",
    "audioName = []\n",
    "confidence = []\n",
    "\n",
    "for i in range(len(audioList)):\n",
    "    detector = RNNDetector()\n",
    "    currentSoundPath = folder + audioList[i]\n",
    "    currentSound = audioList[i]\n",
    "    global_score, local_score = detector.predict_on_wav(currentSoundPath)\n",
    "    s, audData = scipy.io.wavfile.read(currentSoundPath)\n",
    "    audioName.append(currentSound)\n",
    "    confidence.append(global_score)\n",
    "    shutil.move(folder + currentSound, destination + currentSound)"
   ]
  },
  {
   "cell_type": "code",
   "execution_count": 10,
   "id": "1d7621f3",
   "metadata": {},
   "outputs": [],
   "source": [
    "# %% print to a CSV file to view\n",
    "df = pd.DataFrame(list(zip(audioList, confidence)), columns=['Audio_Name', 'Highest_Confidence'])\n",
    "path = CSVpath + \"/BirdConfidences.csv\"\n",
    "\n",
    "extension = '.csv'\n",
    "if os.path.exists(os.path.join(CSVpath, \"BirdConfidences.csv\")):\n",
    "    counter = 1\n",
    "    while os.path.exists(path):\n",
    "        path = filename + \" (\" + str(counter) + \")\" + extension\n",
    "        counter += 1\n",
    "else:\n",
    "    path = CSVpath + \"/BirdConfidences.csv\"\n",
    "\n",
    "df.to_csv(path)"
   ]
  },
  {
   "cell_type": "code",
   "execution_count": null,
   "id": "7fb5613c",
   "metadata": {},
   "outputs": [],
   "source": []
  }
 ],
 "metadata": {
  "kernelspec": {
   "display_name": "Python 3 (ipykernel)",
   "language": "python",
   "name": "python3"
  },
  "language_info": {
   "codemirror_mode": {
    "name": "ipython",
    "version": 3
   },
   "file_extension": ".py",
   "mimetype": "text/x-python",
   "name": "python",
   "nbconvert_exporter": "python",
   "pygments_lexer": "ipython3",
   "version": "3.8.8"
  }
 },
 "nbformat": 4,
 "nbformat_minor": 5
}
