{
 "cells": [
  {
   "cell_type": "code",
   "execution_count": 1,
   "id": "bc81954d",
   "metadata": {},
   "outputs": [
    {
     "data": {
      "text/plain": [
       "'\\nCreated on Sun Jan 30 12:03:30 2022\\n\\n@author: amandabreton\\n\\nFunction: Checks if there is the potential for a bird in a sound file.\\nUse after \"SplitAudio.py\". Utilizes microfaune to determine bird potential.\\n'"
      ]
     },
     "execution_count": 1,
     "metadata": {},
     "output_type": "execute_result"
    }
   ],
   "source": [
    "#!/usr/bin/env python3\n",
    "# -*- coding: utf-8 -*-\n",
    "\"\"\"\n",
    "Created on Sun Jan 30 12:03:30 2022\n",
    "\n",
    "@author: amandabreton\n",
    "\n",
    "Function: Checks if there is the potential for a bird in a sound file.\n",
    "Use after \"SplitAudio.py\". Utilizes microfaune to determine bird potential.\n",
    "\"\"\""
   ]
  },
  {
   "cell_type": "code",
   "execution_count": 2,
   "id": "e5840132",
   "metadata": {},
   "outputs": [],
   "source": [
    "# %% Import tools\n",
    "from microfaune.detection import RNNDetector\n",
    "import pandas as pd\n",
    "import argparse\n",
    "import yaml\n",
    "import os\n",
    "import scipy.io.wavfile\n",
    "import shutil"
   ]
  },
  {
   "cell_type": "code",
   "execution_count": 3,
   "id": "8f602cf0",
   "metadata": {},
   "outputs": [],
   "source": [
    "# %%\n",
    "folder = 'audio_input'\n",
    "CSVpath = 'audio_CSVout'\n",
    "destination = 'audio_output'"
   ]
  },
  {
   "cell_type": "code",
   "execution_count": 4,
   "id": "fde87d00",
   "metadata": {},
   "outputs": [
    {
     "ename": "FileNotFoundError",
     "evalue": "[Errno 2] No such file or directory: 'audio_input'",
     "output_type": "error",
     "traceback": [
      "\u001b[0;31m---------------------------------------------------------------------------\u001b[0m",
      "\u001b[0;31mFileNotFoundError\u001b[0m                         Traceback (most recent call last)",
      "Input \u001b[0;32mIn [4]\u001b[0m, in \u001b[0;36m<cell line: 8>\u001b[0;34m()\u001b[0m\n\u001b[1;32m      4\u001b[0m \u001b[38;5;28;01melse\u001b[39;00m:\n\u001b[1;32m      5\u001b[0m     \u001b[38;5;66;03m# print(\"no .DS_Store files\")\u001b[39;00m\n\u001b[1;32m      6\u001b[0m     \u001b[38;5;28;01mpass\u001b[39;00m\n\u001b[0;32m----> 8\u001b[0m \u001b[38;5;28;01mfor\u001b[39;00m filename \u001b[38;5;129;01min\u001b[39;00m os\u001b[38;5;241m.\u001b[39mlistdir(folder):\n\u001b[1;32m      9\u001b[0m     \u001b[38;5;28;01mif\u001b[39;00m filename\u001b[38;5;241m.\u001b[39mendswith(\u001b[38;5;124m\"\u001b[39m\u001b[38;5;124m.WAV\u001b[39m\u001b[38;5;124m\"\u001b[39m):\n\u001b[1;32m     10\u001b[0m         name \u001b[38;5;241m=\u001b[39m os\u001b[38;5;241m.\u001b[39mpath\u001b[38;5;241m.\u001b[39mjoin(folder, filename)\n",
      "\u001b[0;31mFileNotFoundError\u001b[0m: [Errno 2] No such file or directory: 'audio_input'"
     ]
    }
   ],
   "source": [
    "# %% getting which files are audio\n",
    "if os.path.exists(os.path.join(folder, \".DS_Store\")):\n",
    "    os.remove(os.path.join(folder, \".DS_Store\"))\n",
    "else:\n",
    "    # print(\"no .DS_Store files\")\n",
    "    pass\n",
    "\n",
    "for filename in os.listdir(folder):\n",
    "    if filename.endswith(\".WAV\"):\n",
    "        name = os.path.join(folder, filename)\n",
    "    else:\n",
    "        nonimagecount = +1\n",
    "        continue"
   ]
  },
  {
   "cell_type": "code",
   "execution_count": null,
   "id": "49bf0e67",
   "metadata": {},
   "outputs": [],
   "source": [
    "audioList = []\n",
    "for filename in os.listdir(folder):\n",
    "    if filename.endswith(\".WAV\") or filename.endswith(\".wav\"):\n",
    "        audioList.append(filename)\n",
    "    \n",
    "    else:\n",
    "        continue\n",
    "\n",
    "# %% Run microfaune\n",
    "audioName = []\n",
    "confidence = []\n",
    "\n",
    "for i in range(len(audioList)):\n",
    "    detector = RNNDetector()\n",
    "    currentSoundPath = folder + audioList[i]\n",
    "    currentSound = audioList[i]\n",
    "    global_score, local_score = detector.predict_on_wav(currentSoundPath)\n",
    "    s, audData = scipy.io.wavfile.read(currentSoundPath)\n",
    "    audioName.append(currentSound)\n",
    "    confidence.append(global_score)\n",
    "    shutil.move(folder + currentSound, destination + currentSound)"
   ]
  },
  {
   "cell_type": "code",
   "execution_count": null,
   "id": "71733f5a",
   "metadata": {},
   "outputs": [],
   "source": [
    "# %% print to a CSV file to view\n",
    "df = pd.DataFrame(list(zip(audioList, confidence)), columns=['Audio_Name', 'Highest_Confidence'])\n",
    "\n",
    "if os.path.exists(os.path.join(CSVpath, \"BirdConfidences.csv\")):\n",
    "    counter = 1\n",
    "    while os.path.exists(path):\n",
    "        path = filename + \" (\" + str(counter) + \")\" + extension\n",
    "        counter += 1\n",
    "else:\n",
    "    path = CSVpath + \"/BirdConfidences.csv\"\n",
    "\n",
    "df.to_csv(path)"
   ]
  }
 ],
 "metadata": {
  "kernelspec": {
   "display_name": "Python 3 (ipykernel)",
   "language": "python",
   "name": "python3"
  },
  "language_info": {
   "codemirror_mode": {
    "name": "ipython",
    "version": 3
   },
   "file_extension": ".py",
   "mimetype": "text/x-python",
   "name": "python",
   "nbconvert_exporter": "python",
   "pygments_lexer": "ipython3",
   "version": "3.8.8"
  }
 },
 "nbformat": 4,
 "nbformat_minor": 5
}
