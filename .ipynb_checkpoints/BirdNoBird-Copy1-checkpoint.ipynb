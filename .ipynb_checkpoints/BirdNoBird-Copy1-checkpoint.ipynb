{
 "cells": [
  {
   "cell_type": "code",
   "execution_count": 1,
   "id": "a1c17a91",
   "metadata": {},
   "outputs": [
    {
     "data": {
      "text/plain": [
       "'\\nCreated on Sun Jan 30 12:03:30 2022\\n\\n@author: amandabreton\\n\\nFunction: Checks if there is the potential for a bird in a sound file.\\nUse after \"SplitAudio.py\". Utilizes microfaune to determine bird potential.\\n'"
      ]
     },
     "execution_count": 1,
     "metadata": {},
     "output_type": "execute_result"
    }
   ],
   "source": [
    "#!/usr/bin/env python3\n",
    "# -*- coding: utf-8 -*-\n",
    "\"\"\"\n",
    "Created on Sun Jan 30 12:03:30 2022\n",
    "\n",
    "@author: amandabreton\n",
    "\n",
    "Function: Checks if there is the potential for a bird in a sound file.\n",
    "Use after \"SplitAudio.py\". Utilizes microfaune to determine bird potential.\n",
    "\"\"\""
   ]
  },
  {
   "cell_type": "code",
   "execution_count": 2,
   "id": "952ae38b",
   "metadata": {},
   "outputs": [],
   "source": [
    "# %% Import tools\n",
    "from microfaune.detection import RNNDetector\n",
    "import pandas as pd\n",
    "import argparse\n",
    "import yaml\n",
    "import os\n",
    "import scipy.io.wavfile\n",
    "import shutil"
   ]
  },
  {
   "cell_type": "code",
   "execution_count": 3,
   "id": "652ee57f",
   "metadata": {},
   "outputs": [],
   "source": [
    "# %%\n",
    "folder = 'audio_input/'\n",
    "CSVpath = 'audio_CSVout/'\n",
    "destination = 'audio_output/'"
   ]
  },
  {
   "cell_type": "code",
   "execution_count": 4,
   "id": "316afe28",
   "metadata": {},
   "outputs": [],
   "source": [
    "# %% getting which files are audio\n",
    "if os.path.exists(os.path.join(folder, \".DS_Store\")):\n",
    "    os.remove(os.path.join(folder, \".DS_Store\"))\n",
    "else:\n",
    "    # print(\"no .DS_Store files\")\n",
    "    pass\n",
    "\n",
    "for filename in os.listdir(folder):\n",
    "    if filename.endswith(\".WAV\"):\n",
    "        name = os.path.join(folder, filename)\n",
    "    else:\n",
    "        nonimagecount = +1\n",
    "        continue"
   ]
  },
  {
   "cell_type": "code",
   "execution_count": 5,
   "id": "8801c46e",
   "metadata": {},
   "outputs": [
    {
     "name": "stderr",
     "output_type": "stream",
     "text": [
      "2022-04-12 23:04:47.916474: I tensorflow/core/platform/cpu_feature_guard.cc:142] This TensorFlow binary is optimized with oneAPI Deep Neural Network Library (oneDNN)to use the following CPU instructions in performance-critical operations:  AVX2 FMA\n",
      "To enable them in other operations, rebuild TensorFlow with the appropriate compiler flags.\n",
      "2022-04-12 23:04:47.936064: I tensorflow/compiler/xla/service/service.cc:168] XLA service 0x7f90bb4e21f0 initialized for platform Host (this does not guarantee that XLA will be used). Devices:\n",
      "2022-04-12 23:04:47.936076: I tensorflow/compiler/xla/service/service.cc:176]   StreamExecutor device (0): Host, Default Version\n"
     ]
    }
   ],
   "source": [
    "audioList = []\n",
    "for filename in os.listdir(folder):\n",
    "    if filename.endswith(\".WAV\") or filename.endswith(\".wav\"):\n",
    "        audioList.append(filename)\n",
    "    \n",
    "    else:\n",
    "        continue\n",
    "\n",
    "# %% Run microfaune\n",
    "audioName = []\n",
    "confidence = []\n",
    "\n",
    "for i in range(len(audioList)):\n",
    "    detector = RNNDetector()\n",
    "    currentSoundPath = folder + audioList[i]\n",
    "    currentSound = audioList[i]\n",
    "    global_score, local_score = detector.predict_on_wav(currentSoundPath)\n",
    "    s, audData = scipy.io.wavfile.read(currentSoundPath)\n",
    "    audioName.append(currentSound)\n",
    "    confidence.append(global_score)\n",
    "    shutil.move(folder + currentSound, destination + currentSound)"
   ]
  },
  {
   "cell_type": "code",
   "execution_count": 8,
   "id": "989858a1",
   "metadata": {},
   "outputs": [],
   "source": [
    "# %% print to a CSV file to view\n",
    "df = pd.DataFrame(list(zip(audioList, confidence)), columns=['Audio_Name', 'Highest_Confidence'])\n",
    "\n",
    "if os.path.exists(os.path.join(CSVpath, \"BirdConfidences.csv\")):\n",
    "    counter = 1\n",
    "    path = CSVpath + \"BirdConfidences.csv\"\n",
    "    while os.path.exists(path):\n",
    "        path = CSVpath + \"BirdConfidences\" + str(counter) + \".csv\"\n",
    "        counter += 1\n",
    "else:\n",
    "    path = CSVpath + \"/BirdConfidences.csv\"\n",
    "\n",
    "df.to_csv(path)"
   ]
  },
  {
   "cell_type": "code",
   "execution_count": null,
   "id": "4b1f2e16",
   "metadata": {},
   "outputs": [],
   "source": []
  }
 ],
 "metadata": {
  "kernelspec": {
   "display_name": "Python 3 (ipykernel)",
   "language": "python",
   "name": "python3"
  },
  "language_info": {
   "codemirror_mode": {
    "name": "ipython",
    "version": 3
   },
   "file_extension": ".py",
   "mimetype": "text/x-python",
   "name": "python",
   "nbconvert_exporter": "python",
   "pygments_lexer": "ipython3",
   "version": "3.8.8"
  }
 },
 "nbformat": 4,
 "nbformat_minor": 5
}
