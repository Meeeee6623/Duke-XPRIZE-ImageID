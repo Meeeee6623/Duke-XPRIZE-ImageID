{
 "cells": [
  {
   "cell_type": "code",
   "execution_count": 19,
   "id": "b71ee0c6",
   "metadata": {},
   "outputs": [
    {
     "data": {
      "text/plain": [
       "'\\nCreated on Fri Feb  4 09:48:15 2022\\n\\n@author: amandabreton\\n\\nFunction: Moves audio files above a given threshold to a given\\nfolder, and audio files below threshold to another folder.\\n'"
      ]
     },
     "execution_count": 19,
     "metadata": {},
     "output_type": "execute_result"
    }
   ],
   "source": [
    "#!/usr/bin/env python3\n",
    "# -*- coding: utf-8 -*-\n",
    "\"\"\"\n",
    "Created on Fri Feb  4 09:48:15 2022\n",
    "\n",
    "@author: amandabreton\n",
    "\n",
    "Function: Moves audio files above a given threshold to a given\n",
    "folder, and audio files below threshold to another folder.\n",
    "\"\"\""
   ]
  },
  {
   "cell_type": "code",
   "execution_count": 20,
   "id": "61d3f728",
   "metadata": {},
   "outputs": [],
   "source": [
    "# %% load packages\n",
    "import pandas as pd\n",
    "import argparse\n",
    "import yaml\n",
    "import os\n",
    "import shutil"
   ]
  },
  {
   "cell_type": "code",
   "execution_count": 21,
   "id": "c7e990f9",
   "metadata": {},
   "outputs": [],
   "source": [
    "# %% parsing in information\n",
    "threshold = 0.75\n",
    "source = 'audio_output/'\n",
    "CSVpath = 'audio_CSVout'\n",
    "highdestination = 'audio_bestbirds/'\n",
    "lowdestination = 'audio_nobirds/'"
   ]
  },
  {
   "cell_type": "code",
   "execution_count": 22,
   "id": "59060341",
   "metadata": {},
   "outputs": [],
   "source": [
    "# %% getting the file information\n",
    "if os.path.exists(os.path.join(CSVpath, \".DS_Store\")):\n",
    "    os.remove(os.path.join(CSVpath, \".DS_Store\"))\n",
    "else:\n",
    "    pass"
   ]
  },
  {
   "cell_type": "code",
   "execution_count": 23,
   "id": "6b3a7b45",
   "metadata": {},
   "outputs": [],
   "source": [
    "# %% load up the csv file\n",
    "i = 0 \n",
    "for filename in os.listdir(CSVpath):\n",
    "    filepath = os.path.join(CSVpath, filename)\n",
    "    df = pd.read_csv(filepath, usecols=['Audio_Name', 'Highest_Confidence'])\n",
    "    # %% sort high and low confidence files into seperate folder\n",
    "    for i in range(len(df['Audio_Name'])):\n",
    "        confidence = float(df['Highest_Confidence'][i][1:-1])\n",
    "        audiofile = str(df[\"Audio_Name\"][i])\n",
    "        if confidence > threshold:\n",
    "            shutil.move(source + audiofile, highdestination+audiofile)\n",
    "        else:\n",
    "            shutil.move(source + audiofile, lowdestination+audiofile)\n",
    "            \n",
    "print(\"All done :)\")"
   ]
  },
  {
   "cell_type": "code",
   "execution_count": null,
   "id": "74d1ecfc",
   "metadata": {},
   "outputs": [],
   "source": []
  }
 ],
 "metadata": {
  "kernelspec": {
   "display_name": "Python 3 (ipykernel)",
   "language": "python",
   "name": "python3"
  },
  "language_info": {
   "codemirror_mode": {
    "name": "ipython",
    "version": 3
   },
   "file_extension": ".py",
   "mimetype": "text/x-python",
   "name": "python",
   "nbconvert_exporter": "python",
   "pygments_lexer": "ipython3",
   "version": "3.8.8"
  }
 },
 "nbformat": 4,
 "nbformat_minor": 5
}
